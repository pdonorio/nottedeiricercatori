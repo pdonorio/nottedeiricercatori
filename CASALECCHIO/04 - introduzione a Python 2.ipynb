{
 "cells": [
  {
   "cell_type": "code",
   "execution_count": 1,
   "metadata": {
    "code_folding": [],
    "slideshow": {
     "slide_type": "skip"
    }
   },
   "outputs": [],
   "source": [
    "filename = 'data/raw.fastq'\n",
    "with open(filename, 'r') as fastq_file:\n",
    "    identifier_line = fastq_file.readline().strip()\n",
    "    sequence_line = fastq_file.readline().strip()\n",
    "    description_line = fastq_file.readline().strip()\n",
    "    quality_line = fastq_file.readline().strip()"
   ]
  },
  {
   "cell_type": "markdown",
   "metadata": {
    "slideshow": {
     "slide_type": "slide"
    }
   },
   "source": [
    "# Codifica della qualita'\n",
    "\n",
    "https://en.wikipedia.org/wiki/FASTQ_format#Encoding\n",
    "\n",
    "La codifica che e' stata usata nei file fastq e' *Illumina 1.8+ Phred+33,  raw reads typically (0, 41)*"
   ]
  },
  {
   "cell_type": "markdown",
   "metadata": {
    "slideshow": {
     "slide_type": "subslide"
    }
   },
   "source": [
    "```\n",
    "  !\"#$%&'()*+,-./0123456789:;<=>?@ABCDEFGHIJKLMNOPQRSTUVWXYZ[\\]^_`abcdefghijklmnopqrstuvwxyz{|}~\n",
    "  |                         |    |        |                              |                     |\n",
    " 33                        59   64       73                            104                   126\n",
    "  0.2......................26...31........41\n",
    "```"
   ]
  },
  {
   "cell_type": "code",
   "execution_count": null,
   "metadata": {
    "slideshow": {
     "slide_type": "-"
    }
   },
   "outputs": [],
   "source": [
    "quality_line"
   ]
  },
  {
   "cell_type": "markdown",
   "metadata": {
    "slideshow": {
     "slide_type": "slide"
    }
   },
   "source": [
    "# If e condizioni\n",
    "\n",
    "```\n",
    "if condizione:\n",
    "    blocco di istruzioni\n",
    "```"
   ]
  },
  {
   "cell_type": "markdown",
   "metadata": {
    "slideshow": {
     "slide_type": "subslide"
    }
   },
   "source": [
    "**Attenzione:** Python non usa parentesi per definire l'inizio e la fine di un blocco di istruzioni. \n",
    "\n",
    "L'inizio del blocco di solito e' identificato da un'istruzione (come un **`if`**) che conclude con i '**:**'.\n",
    "\n",
    "Il corpo del blocco e' definito per indentazione. Uguale indentazione significa uguale livello di blocco."
   ]
  },
  {
   "cell_type": "code",
   "execution_count": null,
   "metadata": {
    "slideshow": {
     "slide_type": "subslide"
    }
   },
   "outputs": [],
   "source": [
    "if '#' in quality_line:\n",
    "    print(\"La sequenza contiene un elemento a bassa qualita'\")"
   ]
  },
  {
   "cell_type": "markdown",
   "metadata": {
    "slideshow": {
     "slide_type": "subslide"
    }
   },
   "source": [
    "Il costrutto completo prevede\n",
    "\n",
    "```\n",
    "if condizione:\n",
    "    blocco di istruzioni\n",
    "elif altracondizione:\n",
    "    altro blocco di istruzioni\n",
    "else:\n",
    "    ultimo blocco di istruzioni\n",
    "```"
   ]
  },
  {
   "cell_type": "code",
   "execution_count": null,
   "metadata": {
    "slideshow": {
     "slide_type": "subslide"
    }
   },
   "outputs": [],
   "source": [
    "if '!' in quality_line or '\"' in quality_line:\n",
    "    print(\"La sequenza contiene un elemento a bassa qualita'\")\n",
    "else:\n",
    "    print(\"La sequenza non contiene elementi a bassa qualita'\")"
   ]
  },
  {
   "cell_type": "code",
   "execution_count": null,
   "metadata": {
    "slideshow": {
     "slide_type": "subslide"
    }
   },
   "outputs": [],
   "source": [
    "if '!' in quality_line or '\"' in quality_line:\n",
    "    print(\"La sequenza contiene un elemento a qualita' molto bassa\")\n",
    "elif \"#\" in quality_line:\n",
    "    print(\"La sequenza contiene un elemento a bassa qualita'\")\n",
    "else:\n",
    "    print(\"La sequenza non contiene elementi a bassa qualita'\")"
   ]
  },
  {
   "cell_type": "markdown",
   "metadata": {
    "slideshow": {
     "slide_type": "slide"
    }
   },
   "source": [
    "# Cicli for\n",
    "\n",
    "Usiamo la codifica con caratteri ASCII e trasformiamo i caratteri nella corrisopndente indice numerico di qualita':"
   ]
  },
  {
   "cell_type": "code",
   "execution_count": null,
   "metadata": {
    "slideshow": {
     "slide_type": "-"
    }
   },
   "outputs": [],
   "source": [
    "ord('A')"
   ]
  },
  {
   "cell_type": "code",
   "execution_count": null,
   "metadata": {
    "slideshow": {
     "slide_type": "fragment"
    }
   },
   "outputs": [],
   "source": [
    "ord('A')-33"
   ]
  },
  {
   "cell_type": "markdown",
   "metadata": {
    "slideshow": {
     "slide_type": "subslide"
    }
   },
   "source": [
    "Definiamo un limite di qualita' sotto al quale vogliamo escludere una sequenza:"
   ]
  },
  {
   "cell_type": "code",
   "execution_count": 2,
   "metadata": {
    "slideshow": {
     "slide_type": "-"
    }
   },
   "outputs": [],
   "source": [
    "single_quality_threshold = 10"
   ]
  },
  {
   "cell_type": "markdown",
   "metadata": {
    "slideshow": {
     "slide_type": "fragment"
    }
   },
   "source": [
    "Il ciclo for ci permette di scorrere lungo i caratteri di una stringa o gli elementi di una lista:"
   ]
  },
  {
   "cell_type": "code",
   "execution_count": 3,
   "metadata": {
    "code_folding": [],
    "slideshow": {
     "slide_type": "-"
    }
   },
   "outputs": [],
   "source": [
    "for quality in quality_line:\n",
    "    if ord(quality)-33 < single_quality_threshold: \n",
    "        print(\"La sequenza contiene un elemento a bassa qualita'\")"
   ]
  },
  {
   "cell_type": "markdown",
   "metadata": {
    "slideshow": {
     "slide_type": "fragment"
    }
   },
   "source": [
    "Posso aggiungere l'istruzione **`break`** per uscire dal ciclo appena incontro la prima condizione per escludere la sequenza."
   ]
  },
  {
   "cell_type": "markdown",
   "metadata": {
    "slideshow": {
     "slide_type": "subslide"
    }
   },
   "source": [
    "Decidiamo ora di aggiungere un ulteriore criterio per decidere se escludere la sequenza.\n",
    "\n",
    "Ammettiamo che non ci siano valori di qualita' della singola base troppo bassi.\n",
    "\n",
    "Il nuovo criterio prevedere di calcolare la media delle qualita' delle basi della sequenza e se sta sotto un limite viene esclusa.\n",
    "\n",
    "Definiamo quandi un nuovo limite:"
   ]
  },
  {
   "cell_type": "code",
   "execution_count": 4,
   "metadata": {
    "slideshow": {
     "slide_type": "-"
    }
   },
   "outputs": [],
   "source": [
    "sequence_quality_threshold = 30"
   ]
  },
  {
   "cell_type": "code",
   "execution_count": null,
   "metadata": {
    "slideshow": {
     "slide_type": "subslide"
    }
   },
   "outputs": [],
   "source": [
    "average = 0\n",
    "type(average)"
   ]
  },
  {
   "cell_type": "code",
   "execution_count": null,
   "metadata": {
    "slideshow": {
     "slide_type": "fragment"
    }
   },
   "outputs": [],
   "source": [
    "for quality in quality_line:\n",
    "    average = average + ord(quality)-33\n",
    "# posso usare l'operatore +="
   ]
  },
  {
   "cell_type": "code",
   "execution_count": null,
   "metadata": {
    "slideshow": {
     "slide_type": "subslide"
    }
   },
   "outputs": [],
   "source": [
    "average = average/len(quality_line)\n",
    "if average < sequence_quality_threshold: \n",
    "        print(\"La sequenza ha una bassa qualita'\")\n",
    "average"
   ]
  },
  {
   "cell_type": "markdown",
   "metadata": {
    "slideshow": {
     "slide_type": "subslide"
    }
   },
   "source": [
    "Ho inizializzato la variabile `average` a zero intero e l'ho incrementata sommando numeri interi.\n",
    "\n",
    "Ma la divisione fra interi non e' sempre un intero."
   ]
  },
  {
   "cell_type": "code",
   "execution_count": null,
   "metadata": {
    "slideshow": {
     "slide_type": "-"
    }
   },
   "outputs": [],
   "source": [
    "type(average)"
   ]
  },
  {
   "cell_type": "markdown",
   "metadata": {
    "slideshow": {
     "slide_type": "fragment"
    }
   },
   "source": [
    "**Attenzione:** Python supporta la tipizzazione dinamica."
   ]
  },
  {
   "cell_type": "markdown",
   "metadata": {
    "slideshow": {
     "slide_type": "slide"
    }
   },
   "source": [
    "# Dizionari\n",
    "\n",
    "Visto che le informazioni relative ad una sequenza sono da leggere a blocchi di quattro linee dal file fastq, puo' risultare utile creare un oggeto che contenga tutte le informazioni relative ad una sequenza.\n",
    "\n",
    "Altra funzonalita' molto utile e' quella di potersi riferire agli elementi di questo oggetto non con degli indici numerici (come nelle liste), ma tramite delle chiavi che possono essere del tipo immutabile che vogliamo (a noi fa comodo usare una stringa)."
   ]
  },
  {
   "cell_type": "code",
   "execution_count": null,
   "metadata": {
    "slideshow": {
     "slide_type": "subslide"
    }
   },
   "outputs": [],
   "source": [
    "sequence_dict = {\n",
    "    'identifier_line'  : identifier_line,\n",
    "    'sequence_line'    : sequence_line,\n",
    "    'description_line' : description_line,\n",
    "    'quality_line'     : quality_line,\n",
    "    'quality_average'  : average\n",
    "}\n",
    "type(sequence_dict)"
   ]
  },
  {
   "cell_type": "code",
   "execution_count": null,
   "metadata": {
    "slideshow": {
     "slide_type": "-"
    }
   },
   "outputs": [],
   "source": [
    "sequence_dict['quality_average']"
   ]
  },
  {
   "cell_type": "markdown",
   "metadata": {
    "slideshow": {
     "slide_type": "subslide"
    }
   },
   "source": [
    "Aggiungiamo adesso un nuovo elemento al dizionario, una lista contenente la codifica della qualita' delle basi della sequanca con numeri interi."
   ]
  },
  {
   "cell_type": "code",
   "execution_count": null,
   "metadata": {
    "slideshow": {
     "slide_type": "-"
    }
   },
   "outputs": [],
   "source": [
    "quality_list = []\n",
    "for quality in quality_line:\n",
    "    quality_list.append(ord(quality)-33)\n",
    "\n",
    "sequence_dict['quality_list'] = quality_list"
   ]
  },
  {
   "cell_type": "code",
   "execution_count": null,
   "metadata": {
    "scrolled": true,
    "slideshow": {
     "slide_type": "subslide"
    }
   },
   "outputs": [],
   "source": [
    "sequence_dict['quality_list']"
   ]
  },
  {
   "cell_type": "code",
   "execution_count": null,
   "metadata": {
    "slideshow": {
     "slide_type": "fragment"
    }
   },
   "outputs": [],
   "source": [
    "print(sequence_dict['sequence_line'][0])\n",
    "print(sequence_dict['quality_line'][0])\n",
    "print(sequence_dict['quality_list'][0])"
   ]
  },
  {
   "cell_type": "markdown",
   "metadata": {
    "slideshow": {
     "slide_type": "slide"
    }
   },
   "source": [
    "# Funzioni\n",
    "\n",
    "Le operazioni che abbiamo eseguito finora sulle prime quattro righe vanno ripetute per tutte le sequenze del file fastq.\n",
    "\n",
    "Il costrutto ideale per raggruppare una serie di identiche e' la funzione."
   ]
  },
  {
   "cell_type": "code",
   "execution_count": null,
   "metadata": {
    "code_folding": [],
    "slideshow": {
     "slide_type": "subslide"
    }
   },
   "outputs": [],
   "source": [
    "def read_sequence(fastq_file, single_quality_threshold=10, sequence_quality_threshold=30):\n",
    "    \"\"\"\n",
    "    Questa funzione legge quattro linee del file fastq e controlla la qualita' della sequenza.\n",
    "    Se i criteri di qualita' sono rispettati restituisce un dizionario contenente le informazioni della sequanza.\n",
    "    \n",
    "    Args:\n",
    "        fastq_file                  (TextIOWrapper): oggetto file aperto in lettura;\n",
    "        single_quality_threshold   (int, opzionale): soglia sulla qualita' della singola base;\n",
    "        sequence_quality_threshold (int, opzionale): soglia sulla qualita' media della sequenza;\n",
    "        \n",
    "    Returns:\n",
    "        dict: dizionario contenente i dati della sequenza letta se i criteri di qualita' sono rispettati,\n",
    "              altrimenti un dizionario vuoto.\n",
    "    \"\"\"\n",
    "    \n",
    "    # costuiamo insieme la funzione\n",
    "    \n",
    "    return\n",
    "    "
   ]
  },
  {
   "cell_type": "code",
   "execution_count": null,
   "metadata": {
    "slideshow": {
     "slide_type": "subslide"
    }
   },
   "outputs": [],
   "source": [
    "help(read_sequence)"
   ]
  },
  {
   "cell_type": "markdown",
   "metadata": {
    "slideshow": {
     "slide_type": "subslide"
    }
   },
   "source": [
    "Come utilizzo la funzione?"
   ]
  },
  {
   "cell_type": "code",
   "execution_count": null,
   "metadata": {
    "slideshow": {
     "slide_type": "-"
    }
   },
   "outputs": [],
   "source": [
    "with open(filename, 'r') as fastq_file:\n",
    "    fastq_list = fastq_file.readlines()\n",
    "len_file = len(fastq_list)\n",
    "del fastq_list"
   ]
  },
  {
   "cell_type": "code",
   "execution_count": null,
   "metadata": {
    "slideshow": {
     "slide_type": "subslide"
    }
   },
   "outputs": [],
   "source": [
    "sequences = []\n",
    "with open(filename, 'r') as fastq_file:\n",
    "    for n in range(int(len_file/4)):\n",
    "        sequence = read_sequence(fastq_file) #, single_quality_threshold=20, sequence_quality_threshold=30)\n",
    "        if sequence: sequences.append(sequence)"
   ]
  },
  {
   "cell_type": "code",
   "execution_count": null,
   "metadata": {
    "slideshow": {
     "slide_type": "subslide"
    }
   },
   "outputs": [],
   "source": [
    "sequences[0]"
   ]
  },
  {
   "cell_type": "code",
   "execution_count": null,
   "metadata": {
    "slideshow": {
     "slide_type": "fragment"
    }
   },
   "outputs": [],
   "source": [
    "len(sequences)"
   ]
  }
 ],
 "metadata": {
  "celltoolbar": "Slideshow",
  "kernelspec": {
   "display_name": "Python 3",
   "language": "python",
   "name": "python3"
  },
  "language_info": {
   "codemirror_mode": {
    "name": "ipython",
    "version": 3
   },
   "file_extension": ".py",
   "mimetype": "text/x-python",
   "name": "python",
   "nbconvert_exporter": "python",
   "pygments_lexer": "ipython3",
   "version": "3.6.1"
  },
  "toc": {
   "colors": {
    "hover_highlight": "#DAA520",
    "navigate_num": "#000000",
    "navigate_text": "#333333",
    "running_highlight": "#FF0000",
    "selected_highlight": "#FFD700",
    "sidebar_border": "#EEEEEE",
    "wrapper_background": "#FFFFFF"
   },
   "moveMenuLeft": true,
   "nav_menu": {
    "height": "102px",
    "width": "252px"
   },
   "navigate_menu": true,
   "number_sections": true,
   "sideBar": true,
   "threshold": 4,
   "toc_cell": false,
   "toc_section_display": "block",
   "toc_window_display": false,
   "widenNotebook": false
  }
 },
 "nbformat": 4,
 "nbformat_minor": 2
}
