{
 "cells": [
  {
   "cell_type": "markdown",
   "metadata": {
    "slideshow": {
     "slide_type": "slide"
    }
   },
   "source": [
    "# Una giornata da Ricercatore\n",
    "\n",
    "## Introduzione alla programmazione con Python"
   ]
  },
  {
   "cell_type": "markdown",
   "metadata": {
    "slideshow": {
     "slide_type": "subslide"
    }
   },
   "source": [
    "# Agenda 1\n",
    "\n",
    "- Dati da analizzare\n",
    "- Variabile ed assegnazione\n",
    "  - Stringhe\n",
    "- Esempio base di struttura dati in python: le liste"
   ]
  },
  {
   "cell_type": "markdown",
   "metadata": {
    "slideshow": {
     "slide_type": "subslide"
    }
   },
   "source": [
    "# Agenda 2\n",
    "\n",
    "- If e condizioni\n",
    "  - Blocco / indentazione\n",
    "- I cicli\n",
    "- Altre strutture dati: i dizionari\n",
    "- Le funzioni"
   ]
  },
  {
   "cell_type": "markdown",
   "metadata": {
    "slideshow": {
     "slide_type": "slide"
    }
   },
   "source": [
    "# Data\n",
    "\n",
    "Lo scopo del ricercatore è quello di analizzare i dati prodotti in laboratorio.\n",
    "\n",
    "Come abbiamo visto nell'introduzione, la piattaforma di sequenziamento produce due file. \n",
    "\n",
    "Trovate un esempio nella cartella nominata **`data`**."
   ]
  },
  {
   "cell_type": "code",
   "execution_count": null,
   "metadata": {
    "slideshow": {
     "slide_type": "subslide"
    }
   },
   "outputs": [],
   "source": [
    "%%bash\n",
    "wc -l data/*.fastq"
   ]
  },
  {
   "cell_type": "code",
   "execution_count": null,
   "metadata": {
    "slideshow": {
     "slide_type": "fragment"
    }
   },
   "outputs": [],
   "source": [
    "! ls -lh data/*.fastq"
   ]
  },
  {
   "cell_type": "markdown",
   "metadata": {
    "slideshow": {
     "slide_type": "subslide"
    }
   },
   "source": [
    "Vediamo come è fatto uno di questi file:"
   ]
  },
  {
   "cell_type": "code",
   "execution_count": null,
   "metadata": {
    "slideshow": {
     "slide_type": "-"
    }
   },
   "outputs": [],
   "source": [
    "! head -n 16 data/raw.fastq"
   ]
  },
  {
   "cell_type": "markdown",
   "metadata": {
    "slideshow": {
     "slide_type": "subslide"
    }
   },
   "source": [
    "https://en.wikipedia.org/wiki/FASTQ_format\n",
    "\n",
    "A FASTQ file normally uses four lines per sequence."
   ]
  },
  {
   "cell_type": "markdown",
   "metadata": {
    "slideshow": {
     "slide_type": "subslide"
    }
   },
   "source": [
    "- Line 1 begins with a '@' character and is followed by a sequence identifier and an optional description (like a FASTA title line).\n",
    "- Line 2 is the raw sequence letters.\n",
    "- Line 3 begins with a '+' character and is optionally followed by the same sequence identifier (and any description) again.\n",
    "- Line 4 encodes the quality values for the sequence in Line 2, and must contain the same number of symbols as letters in the sequence."
   ]
  },
  {
   "cell_type": "markdown",
   "metadata": {
    "slideshow": {
     "slide_type": "subslide"
    }
   },
   "source": [
    "```\n",
    "@ERR232253.22491551 HWI-EAS282-R_0001:6:109:6894:5270 length=74\n",
    "CCGCACTCCAGCCTGGGTGATACAGTGAGACTCCGTCTAAAAATATATATATATACGTGCACACGCACACACAC\n",
    "+ERR232253.22491551 HWI-EAS282-R_0001:6:109:6894:5270 length=74\n",
    "CCCCCCCCCCCCCCCCCBCCCCCCCDCCCCCCCDCDCCCCCBCC@@CCCCCADCCCBBDCCDDDBADADDDDDC\n",
    "```"
   ]
  },
  {
   "cell_type": "markdown",
   "metadata": {
    "slideshow": {
     "slide_type": "slide"
    }
   },
   "source": [
    "# Python è un linguaggio di programmazione:\n",
    "\n",
    "- ad alto livello;\n",
    "- che supporta diversi paradigmi di programmazione:\n",
    "  - object-oriented\n",
    "  - imperativo\n",
    "  - funzionale"
   ]
  },
  {
   "cell_type": "markdown",
   "metadata": {
    "slideshow": {
     "slide_type": "subslide"
    }
   },
   "source": [
    "- che offre una tipizzazione dinamica forte;\n",
    "- pseudo-compilato (o pseudo-interpretato);\n",
    "- portabile;\n",
    "- free software, ma soprattutto open-source."
   ]
  },
  {
   "cell_type": "code",
   "execution_count": null,
   "metadata": {
    "scrolled": false,
    "slideshow": {
     "slide_type": "subslide"
    }
   },
   "outputs": [],
   "source": [
    "import this"
   ]
  },
  {
   "cell_type": "markdown",
   "metadata": {
    "slideshow": {
     "slide_type": "slide"
    }
   },
   "source": [
    "# Assegnazione / Riferimento\n",
    "\n",
    "Per assegnare un valore ad una variabile si usa l'operatore '**=**'.\n",
    "\n",
    "In Python questa operazione non e' una vera e propria assegnazione, ma un riferimento. Per il momento la possiamo considerare come una normale assegnazione."
   ]
  },
  {
   "cell_type": "code",
   "execution_count": null,
   "metadata": {
    "slideshow": {
     "slide_type": "-"
    }
   },
   "outputs": [],
   "source": [
    "filename = 'data/raw.fastq'"
   ]
  },
  {
   "cell_type": "markdown",
   "metadata": {
    "slideshow": {
     "slide_type": "slide"
    }
   },
   "source": [
    "# File I/O\n",
    "\n",
    "Per accedere ad un file si usa la funzione **`open()`**:\n",
    "- il primo argomanto è una stringa col nome del file, \n",
    "- il secondo e' la modalita' di accesso al file: 'r' lettura, 'w' scrittura, 'a' aggiunta, ...\n",
    "- il construtto with ci permette di gestire in modo più sicuro le operazioni di I/O\n",
    "    - non è necessario chiudere il file, la chiusura è automatica anche in caso di errori\n",
    "- la funzione open restituisce un oggetto file a cui assegnamo un nome"
   ]
  },
  {
   "cell_type": "code",
   "execution_count": null,
   "metadata": {
    "code_folding": [],
    "slideshow": {
     "slide_type": "subslide"
    }
   },
   "outputs": [],
   "source": [
    "with open(filename, 'r') as fastq_file:\n",
    "    identifier_line = fastq_file.readline()\n",
    "    sequence_line = fastq_file.readline()\n",
    "    description_line = fastq_file.readline()\n",
    "    quality_line = fastq_file.readline()"
   ]
  },
  {
   "cell_type": "markdown",
   "metadata": {
    "slideshow": {
     "slide_type": "fragment"
    }
   },
   "source": [
    "Le linee che seguono lo statement **`with`** servono a leggere una riga del file ed \"assegnare\" il suo valore alla variabile a sinistra dell'uguale."
   ]
  },
  {
   "cell_type": "markdown",
   "metadata": {
    "slideshow": {
     "slide_type": "fragment"
    }
   },
   "source": [
    "### L'indentazione conta!"
   ]
  },
  {
   "cell_type": "markdown",
   "metadata": {
    "slideshow": {
     "slide_type": "slide"
    }
   },
   "source": [
    "# Stampa\n",
    "\n",
    "In tutti i linguaggi di programmazione e' prevista una funzione o un costrutto che permette \n",
    "la stampa di una variabile.\n",
    "\n",
    "In Python esiste la funzione **`print()`**"
   ]
  },
  {
   "cell_type": "code",
   "execution_count": null,
   "metadata": {
    "collapsed": true,
    "slideshow": {
     "slide_type": "-"
    }
   },
   "outputs": [],
   "source": [
    "print(identifier_line)"
   ]
  },
  {
   "cell_type": "markdown",
   "metadata": {
    "slideshow": {
     "slide_type": "-"
    }
   },
   "source": [
    "La funzione print viene usata principalmente quando il sorgente e' scritto su file."
   ]
  },
  {
   "cell_type": "markdown",
   "metadata": {
    "slideshow": {
     "slide_type": "slide"
    }
   },
   "source": [
    "# Modalita' interattiva\n",
    "\n",
    "In questa lezione impareremo ad usare Python grazie a due strumenti (Jupyter ed Ipython) che ci permettono di lavorare in modalita' interattiva.\n",
    "\n",
    "In questa modalita' posso digitare una linea di codice all'interno di una cella e premendo **Ctrl+Invio** viene eseguita subito l'istruzione."
   ]
  },
  {
   "cell_type": "code",
   "execution_count": null,
   "metadata": {
    "slideshow": {
     "slide_type": "-"
    }
   },
   "outputs": [],
   "source": [
    "7 + 5"
   ]
  },
  {
   "cell_type": "markdown",
   "metadata": {},
   "source": [
    "Sotto alla cella contenente l'istruzione, identificata con `In [N]:`, compare una cella contenente l'ouput (se disponibile), identificata da `Out[N]:`."
   ]
  },
  {
   "cell_type": "markdown",
   "metadata": {
    "slideshow": {
     "slide_type": "slide"
    }
   },
   "source": [
    "# Stringhe"
   ]
  },
  {
   "cell_type": "code",
   "execution_count": null,
   "metadata": {
    "slideshow": {
     "slide_type": "-"
    }
   },
   "outputs": [],
   "source": [
    "type(sequence_line)"
   ]
  },
  {
   "cell_type": "markdown",
   "metadata": {
    "slideshow": {
     "slide_type": "fragment"
    }
   },
   "source": [
    "Le stringhe sono tipi di dati composti, nel senso che possono essere composte da dati piu' piccoli, i caratteri.\n",
    "\n",
    "Posso quindi conoscere il numero di caratteri di una stringa usando la funzione **`len()`**."
   ]
  },
  {
   "cell_type": "code",
   "execution_count": null,
   "metadata": {
    "slideshow": {
     "slide_type": "-"
    }
   },
   "outputs": [],
   "source": [
    "len(sequence_line)"
   ]
  },
  {
   "cell_type": "markdown",
   "metadata": {
    "collapsed": true,
    "slideshow": {
     "slide_type": "subslide"
    }
   },
   "source": [
    "In modalita' interattiva posso vedere in output la rappresentazione di un oggetto semplicemente usando il nome associato.\n",
    "\n",
    "D'ora in poi useremo questa modalita'."
   ]
  },
  {
   "cell_type": "code",
   "execution_count": null,
   "metadata": {
    "slideshow": {
     "slide_type": "-"
    }
   },
   "outputs": [],
   "source": [
    "sequence_line"
   ]
  },
  {
   "cell_type": "markdown",
   "metadata": {
    "slideshow": {
     "slide_type": "fragment"
    }
   },
   "source": [
    "Da questa rappresentazione capisco che si tratta di una stringa perche' e' racchiusa da apici.\n",
    "\n",
    "**Attenzione:** leggendo da file un'intera riga abbiamo letto anche il carattere di escape \"a capo\"."
   ]
  },
  {
   "cell_type": "markdown",
   "metadata": {
    "collapsed": true,
    "slideshow": {
     "slide_type": "subslide"
    }
   },
   "source": [
    "Tutto in python e' un oggetto e come tale possiede degli attributi e dei metodi.\n",
    "\n",
    "Posso operare su un oggetto con l'operatore \".\" per accedere al metodo **`strip()`** che elimina gli spazi ed i caratteri di escape ai capi della stringa.\n"
   ]
  },
  {
   "cell_type": "code",
   "execution_count": null,
   "metadata": {
    "slideshow": {
     "slide_type": "-"
    }
   },
   "outputs": [],
   "source": [
    "sequence_line.strip()"
   ]
  },
  {
   "cell_type": "markdown",
   "metadata": {
    "collapsed": true,
    "slideshow": {
     "slide_type": "subslide"
    }
   },
   "source": [
    "Ma la stringa e' un tipo immutabile, per cui non l'ho modificata, ma ho prodotto una nuova stringa con le modifiche richieste."
   ]
  },
  {
   "cell_type": "code",
   "execution_count": null,
   "metadata": {
    "slideshow": {
     "slide_type": "-"
    }
   },
   "outputs": [],
   "source": [
    "sequence_line"
   ]
  },
  {
   "cell_type": "code",
   "execution_count": null,
   "metadata": {
    "slideshow": {
     "slide_type": "subslide"
    }
   },
   "outputs": [],
   "source": [
    "sequence_line = sequence_line.strip()\n",
    "\n",
    "# Completa come nell'esempio, decommenta le righe qui sotto ed esegui con Ctrl+Invio\n",
    "\n",
    "#identifier_line = \n",
    "#description_line = \n",
    "#quality_line = "
   ]
  },
  {
   "cell_type": "markdown",
   "metadata": {
    "slideshow": {
     "slide_type": "subslide"
    }
   },
   "source": [
    "Vediamo altre operazioni che si possono fare sulle stringhe:"
   ]
  },
  {
   "cell_type": "code",
   "execution_count": null,
   "metadata": {
    "slideshow": {
     "slide_type": "-"
    }
   },
   "outputs": [],
   "source": [
    "sequence_line.count('T')"
   ]
  },
  {
   "cell_type": "code",
   "execution_count": null,
   "metadata": {
    "slideshow": {
     "slide_type": "fragment"
    }
   },
   "outputs": [],
   "source": [
    "sequence_line.count('TG')"
   ]
  },
  {
   "cell_type": "code",
   "execution_count": null,
   "metadata": {
    "slideshow": {
     "slide_type": "fragment"
    }
   },
   "outputs": [],
   "source": [
    "sequence_line.lower()"
   ]
  },
  {
   "cell_type": "markdown",
   "metadata": {
    "slideshow": {
     "slide_type": "subslide"
    }
   },
   "source": [
    "Posso accedere ai singoli caratteri di una stringa usando un indice che ne rappresenta la posizione. Gli indici partono da zero."
   ]
  },
  {
   "cell_type": "code",
   "execution_count": null,
   "metadata": {
    "slideshow": {
     "slide_type": "-"
    }
   },
   "outputs": [],
   "source": [
    "sequence_line[0]"
   ]
  },
  {
   "cell_type": "code",
   "execution_count": null,
   "metadata": {
    "slideshow": {
     "slide_type": "fragment"
    }
   },
   "outputs": [],
   "source": [
    "sequence_line[-2]"
   ]
  },
  {
   "cell_type": "code",
   "execution_count": null,
   "metadata": {
    "slideshow": {
     "slide_type": "-"
    }
   },
   "outputs": [],
   "source": [
    "sequence_line[40:55]"
   ]
  },
  {
   "cell_type": "code",
   "execution_count": null,
   "metadata": {
    "slideshow": {
     "slide_type": "-"
    }
   },
   "outputs": [],
   "source": [
    "list(sequence_line)"
   ]
  },
  {
   "cell_type": "markdown",
   "metadata": {
    "slideshow": {
     "slide_type": "slide"
    }
   },
   "source": [
    "# Liste"
   ]
  },
  {
   "cell_type": "code",
   "execution_count": null,
   "metadata": {
    "slideshow": {
     "slide_type": "-"
    }
   },
   "outputs": [],
   "source": [
    "sequence_list = list(sequence_line)\n",
    "type(sequence_list)"
   ]
  },
  {
   "cell_type": "markdown",
   "metadata": {
    "slideshow": {
     "slide_type": "subslide"
    }
   },
   "source": [
    "Una **lista** è una serie ordinata di oggetti."
   ]
  },
  {
   "cell_type": "code",
   "execution_count": null,
   "metadata": {
    "slideshow": {
     "slide_type": "-"
    }
   },
   "outputs": [],
   "source": [
    "lista = ['stringa', 5, 4.6, ['a', 3]]\n",
    "lista"
   ]
  },
  {
   "cell_type": "markdown",
   "metadata": {
    "slideshow": {
     "slide_type": "subslide"
    }
   },
   "source": [
    "Gli oggetti che fanno parte della lista sono chiamati elementi, ognuno identificato da un indice che parte da zero."
   ]
  },
  {
   "cell_type": "code",
   "execution_count": null,
   "metadata": {
    "slideshow": {
     "slide_type": "-"
    }
   },
   "outputs": [],
   "source": [
    "lista[0]"
   ]
  },
  {
   "cell_type": "code",
   "execution_count": null,
   "metadata": {
    "slideshow": {
     "slide_type": "-"
    }
   },
   "outputs": [],
   "source": [
    "lista[-1]"
   ]
  },
  {
   "cell_type": "markdown",
   "metadata": {
    "slideshow": {
     "slide_type": "subslide"
    }
   },
   "source": [
    "Le liste sono oggetti mutabili. Questo significa che posso ri-assegnare i suoi elementi."
   ]
  },
  {
   "cell_type": "code",
   "execution_count": null,
   "metadata": {
    "slideshow": {
     "slide_type": "-"
    }
   },
   "outputs": [],
   "source": [
    "lista[1] = 8\n",
    "lista"
   ]
  },
  {
   "cell_type": "markdown",
   "metadata": {
    "slideshow": {
     "slide_type": "subslide"
    }
   },
   "source": [
    "Oppure aggiungerne di nuovi."
   ]
  },
  {
   "cell_type": "code",
   "execution_count": null,
   "metadata": {
    "slideshow": {
     "slide_type": "-"
    }
   },
   "outputs": [],
   "source": [
    "lista.append(5.2)\n",
    "lista"
   ]
  },
  {
   "cell_type": "markdown",
   "metadata": {
    "slideshow": {
     "slide_type": "fragment"
    }
   },
   "source": [
    "La funzione **`len()`** restituisce il numero di elementi della lista."
   ]
  },
  {
   "cell_type": "code",
   "execution_count": null,
   "metadata": {
    "slideshow": {
     "slide_type": "-"
    }
   },
   "outputs": [],
   "source": [
    "len(lista)"
   ]
  },
  {
   "cell_type": "markdown",
   "metadata": {
    "slideshow": {
     "slide_type": "subslide"
    }
   },
   "source": [
    "L'operatore \"**+**\" ha il significato di **concatenazione** se applicato a due liste o stringhe."
   ]
  },
  {
   "cell_type": "code",
   "execution_count": null,
   "metadata": {
    "slideshow": {
     "slide_type": "-"
    }
   },
   "outputs": [],
   "source": [
    "lista + ['b', 'c', 'd']"
   ]
  },
  {
   "cell_type": "code",
   "execution_count": null,
   "metadata": {
    "slideshow": {
     "slide_type": "-"
    }
   },
   "outputs": [],
   "source": [
    "lista[0] + 'altrastringa'"
   ]
  }
 ],
 "metadata": {
  "celltoolbar": "Slideshow",
  "kernelspec": {
   "display_name": "Python 3",
   "language": "python",
   "name": "python3"
  },
  "language_info": {
   "codemirror_mode": {
    "name": "ipython",
    "version": 3
   },
   "file_extension": ".py",
   "mimetype": "text/x-python",
   "name": "python",
   "nbconvert_exporter": "python",
   "pygments_lexer": "ipython3",
   "version": "3.6.1"
  },
  "toc": {
   "colors": {
    "hover_highlight": "#DAA520",
    "navigate_num": "#000000",
    "navigate_text": "#333333",
    "running_highlight": "#FF0000",
    "selected_highlight": "#FFD700",
    "sidebar_border": "#EEEEEE",
    "wrapper_background": "#FFFFFF"
   },
   "moveMenuLeft": true,
   "nav_menu": {
    "height": "243px",
    "width": "252px"
   },
   "navigate_menu": true,
   "number_sections": true,
   "sideBar": true,
   "threshold": 4,
   "toc_cell": false,
   "toc_section_display": "block",
   "toc_window_display": false,
   "widenNotebook": false
  }
 },
 "nbformat": 4,
 "nbformat_minor": 2
}
