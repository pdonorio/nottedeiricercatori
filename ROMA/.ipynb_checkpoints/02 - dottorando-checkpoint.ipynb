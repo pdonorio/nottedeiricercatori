{
 "cells": [
  {
   "cell_type": "markdown",
   "metadata": {
    "slideshow": {
     "slide_type": "slide"
    }
   },
   "source": [
    "Gioca un pò con il tuo nuovo *taccuino*\n",
    "\n",
    "`:-)`"
   ]
  },
  {
   "cell_type": "markdown",
   "metadata": {
    "slideshow": {
     "slide_type": "fragment"
    }
   },
   "source": [
    "http://bit.ly/rpug2017"
   ]
  },
  {
   "cell_type": "markdown",
   "metadata": {
    "slideshow": {
     "slide_type": "slide"
    }
   },
   "source": [
    "# Diventare \"scienziati\""
   ]
  },
  {
   "cell_type": "markdown",
   "metadata": {
    "slideshow": {
     "slide_type": "subslide"
    }
   },
   "source": [
    "Dopo la laurea Riccardo inizia un dottorato di Ricerca sulle malattie genetiche"
   ]
  },
  {
   "cell_type": "markdown",
   "metadata": {
    "slideshow": {
     "slide_type": "subslide"
    }
   },
   "source": [
    "Il suo supervisore (es. professore universitario associato/ordinario) gli parla di queste nuove piattaforme di sequenziamento."
   ]
  },
  {
   "cell_type": "markdown",
   "metadata": {
    "slideshow": {
     "slide_type": "slide"
    }
   },
   "source": [
    "## Le piattaforme di sequenziamento di nuova generazione\n",
    "\n",
    "> (Next Generation Sequencing = NGS)"
   ]
  },
  {
   "cell_type": "markdown",
   "metadata": {
    "slideshow": {
     "slide_type": "subslide"
    }
   },
   "source": [
    "La tecnologia nel tempo crea nuovi strumenti in grado di ottenere risultati impensabili fino a quel momento."
   ]
  },
  {
   "cell_type": "markdown",
   "metadata": {
    "slideshow": {
     "slide_type": "fragment"
    }
   },
   "source": [
    "Le piattaforme NGS attraverso una innovativa tecnica sono in grado di sequenziare l'intero genoma in poche ore."
   ]
  },
  {
   "cell_type": "markdown",
   "metadata": {
    "slideshow": {
     "slide_type": "subslide"
    }
   },
   "source": [
    "<img src=\"http://j.mp/2wWyCrm\" witdh=800>"
   ]
  },
  {
   "cell_type": "markdown",
   "metadata": {
    "slideshow": {
     "slide_type": "subslide"
    }
   },
   "source": [
    "Il DNA viene amplificato a nuovi livelli di grandezza, producendo immagini che a seconda della luminiscenza indicano i diversi nucleotidi."
   ]
  },
  {
   "cell_type": "markdown",
   "metadata": {
    "slideshow": {
     "slide_type": "fragment"
    }
   },
   "source": [
    "Le immagini vengono convertite in testo."
   ]
  },
  {
   "cell_type": "markdown",
   "metadata": {
    "slideshow": {
     "slide_type": "subslide"
    }
   },
   "source": [
    "Esistono varie *Company* americane che vendono queste nuove piattaforme che a partire dalla stessa idea tentano soluzioni diverse."
   ]
  },
  {
   "cell_type": "markdown",
   "metadata": {
    "slideshow": {
     "slide_type": "subslide"
    }
   },
   "source": [
    "La più famosa diventa \"*Illumina*\" che con il macchinario **MiSeq** consente la diagnostica mirata su determinati geni"
   ]
  },
  {
   "cell_type": "markdown",
   "metadata": {
    "slideshow": {
     "slide_type": "fragment"
    }
   },
   "source": [
    "(es. i geni principalmente coinvolti nel cancro al seno è BRCA1 e BRCA2)"
   ]
  },
  {
   "cell_type": "markdown",
   "metadata": {
    "slideshow": {
     "slide_type": "subslide"
    }
   },
   "source": [
    "Maggiori informazioni: https://www.illumina.com/systems/sequencing-platforms.html"
   ]
  },
  {
   "cell_type": "markdown",
   "metadata": {
    "slideshow": {
     "slide_type": "subslide"
    }
   },
   "source": [
    "Riccardo indaga su questo nuovo tipo di dati prodotti dalle piattaforme NGS che lui dovrà utilizzare."
   ]
  },
  {
   "cell_type": "markdown",
   "metadata": {
    "slideshow": {
     "slide_type": "fragment"
    }
   },
   "source": [
    "La produzione di dati è \"esplosa\" ma anche gli errori di lettura sono sempre più presenti."
   ]
  },
  {
   "cell_type": "markdown",
   "metadata": {
    "slideshow": {
     "slide_type": "fragment"
    }
   },
   "source": [
    "Capire come gestire solo sequenze di \"qualità\" è uno dei suoi primi compiti."
   ]
  },
  {
   "cell_type": "markdown",
   "metadata": {
    "slideshow": {
     "slide_type": "slide"
    }
   },
   "source": [
    "## Formato dei dati"
   ]
  },
  {
   "cell_type": "markdown",
   "metadata": {
    "slideshow": {
     "slide_type": "subslide"
    }
   },
   "source": [
    "Le diverse piattaforme cominciano ad utilizzare un formato standard, di nome *FastQ*"
   ]
  },
  {
   "cell_type": "markdown",
   "metadata": {
    "slideshow": {
     "slide_type": "subslide"
    }
   },
   "source": [
    "Questa è una singola sequenza prodotta dal macchinario analizzando il campione di DNA\n",
    "\n",
    "```fastq\n",
    "@SRR001666.1 071112_SLXA-EAS1_s_7:5:1:817:345 length=36\n",
    "GGGTGATGGCCGCTGCCGATGGCGTCAAATCCCACC\n",
    "+SRR001666.1 071112_SLXA-EAS1_s_7:5:1:817:345 length=36\n",
    "IIIIIIIIIIIIIIIIIIIIIIIIIIIIII9IG9IC\n",
    "```"
   ]
  },
  {
   "cell_type": "markdown",
   "metadata": {
    "slideshow": {
     "slide_type": "subslide"
    }
   },
   "source": [
    "```bash\n",
    "@SRR001666.1 071112_SLXA-EAS1_s_7:5:1:817:345 length=36  # intestazione\n",
    "GGGTGATGGCCGCTGCCGATGGCGTCAAATCCCACC                     # sequenza\n",
    "+SRR001666.1 071112_SLXA-EAS1_s_7:5:1:817:345 length=36  # eventuali informazioni extra\n",
    "IIIIIIIIIIIIIIIIIIIIIIIIIIIIII9IG9IC                     # qualità del sequenziamento\n",
    "```"
   ]
  },
  {
   "cell_type": "markdown",
   "metadata": {
    "slideshow": {
     "slide_type": "subslide"
    }
   },
   "source": [
    "Ogni file ne contiene centinaia di migliaia"
   ]
  },
  {
   "cell_type": "markdown",
   "metadata": {
    "slideshow": {
     "slide_type": "fragment"
    }
   },
   "source": [
    "Nota: il formato FastQ prevede diversi tipi di codifica del livello della qualità del sequenziamento\n",
    "\n",
    "> Riferimento: \n",
    "https://en.wikipedia.org/wiki/FASTQ_format#NCBI_Sequence_Read_Archive"
   ]
  },
  {
   "cell_type": "markdown",
   "metadata": {
    "slideshow": {
     "slide_type": "fragment"
    }
   },
   "source": [
    "Riccardo deve potere gestire ogni giorno tutti i dati prodotti dal macchinario del suo laboratorio.\n"
   ]
  },
  {
   "cell_type": "markdown",
   "metadata": {
    "slideshow": {
     "slide_type": "fragment"
    }
   },
   "source": [
    "Deve automatizzare delle procedure di analisi dati per filtrare e interpretare il DNA a disposizione.\n"
   ]
  },
  {
   "cell_type": "markdown",
   "metadata": {
    "slideshow": {
     "slide_type": "slide"
    }
   },
   "source": [
    "# Prossimo capitolo\n",
    "[link](03%20-%20sviluppo%20del%20codice.ipynb#)"
   ]
  }
 ],
 "metadata": {
  "celltoolbar": "Slideshow",
  "kernelspec": {
   "display_name": "Python 3",
   "language": "python",
   "name": "python3"
  },
  "language_info": {
   "codemirror_mode": {
    "name": "ipython",
    "version": 3
   },
   "file_extension": ".py",
   "mimetype": "text/x-python",
   "name": "python",
   "nbconvert_exporter": "python",
   "pygments_lexer": "ipython3",
   "version": "3.6.1"
  },
  "toc": {
   "colors": {
    "hover_highlight": "#DAA520",
    "navigate_num": "#000000",
    "navigate_text": "#333333",
    "running_highlight": "#FF0000",
    "selected_highlight": "#FFD700",
    "sidebar_border": "#EEEEEE",
    "wrapper_background": "#FFFFFF"
   },
   "moveMenuLeft": true,
   "nav_menu": {
    "height": "66px",
    "width": "252px"
   },
   "navigate_menu": true,
   "number_sections": true,
   "sideBar": true,
   "threshold": 4,
   "toc_cell": false,
   "toc_section_display": "block",
   "toc_window_display": false,
   "widenNotebook": false
  }
 },
 "nbformat": 4,
 "nbformat_minor": 2
}
